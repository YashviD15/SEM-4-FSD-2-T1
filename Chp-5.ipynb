{
 "cells": [
  {
   "cell_type": "code",
   "execution_count": 27,
   "metadata": {},
   "outputs": [
    {
     "name": "stdout",
     "output_type": "stream",
     "text": [
      "Prediction: [38. 58.]\n",
      "r2square: -35.93877551020408\n",
      "Intercept: -2.0\n",
      "Cooefficent [2.]\n",
      "mean_squared_error: 1810.0\n"
     ]
    }
   ],
   "source": [
    "import pandas as pd\n",
    "from sklearn.linear_model import LinearRegression\n",
    "from sklearn.model_selection import train_test_split\n",
    "from sklearn.metrics import r2_score,mean_squared_error\n",
    "\n",
    "d={\"a\":[1,2,3,4,5,6,7,8,9,10],\n",
    "  \"b\":[0,2,4,6,8,10,12,14,16,18]}\n",
    "f=pd.DataFrame(d)\n",
    "x=f[[\"a\"]]\n",
    "y=f[\"b\"]\n",
    "x_train,x_test,y_train,y_test=train_test_split(x,y,test_size=0.2,random_state=42)\n",
    "model=LinearRegression()\n",
    "model.fit(x_train,y_train)\n",
    "pre=model.predict(x_test)\n",
    "# pre=model.predict([[20],[30]])\n",
    "rs=r2_score(y_test,pre)\n",
    "inter=model.intercept_\n",
    "co=model.coef_\n",
    "mse=mean_squared_error(y_test,pre)\n",
    "print(\"Prediction:\",pre)\n",
    "print(\"r2square:\",rs)\n",
    "print(\"Intercept:\",inter)\n",
    "print(\"Cooefficent\",co)\n",
    "print(\"mean_squared_error:\",mse)"
   ]
  },
  {
   "cell_type": "code",
   "execution_count": 3,
   "metadata": {},
   "outputs": [],
   "source": [
    "import numpy as np\n",
    "np.float=np.float64"
   ]
  },
  {
   "cell_type": "code",
   "execution_count": 39,
   "metadata": {},
   "outputs": [
    {
     "name": "stdout",
     "output_type": "stream",
     "text": [
      "Prediction: [10.66666667 14.66666667 30.66666667]\n",
      "r2square: 0.7905982905982907\n",
      "Intercept: 8.666666666666668\n",
      "Cooefficent [0.4]\n",
      "mean_squared_error: 38.11111111111111\n"
     ]
    }
   ],
   "source": [
    "import pandas as pd\n",
    "from sklearn.linear_model import LinearRegression\n",
    "from sklearn.model_selection import train_test_split\n",
    "from sklearn.metrics import r2_score,mean_squared_error\n",
    "x=np.array([5,15,25,35,45,55]).reshape(-1,1)\n",
    "y=np.array([5,20,14,32,22,38])\n",
    "x_train,x_test,y_train,y_test=train_test_split(x,y,test_size=0.4,random_state=42)\n",
    "model=LinearRegression()\n",
    "model.fit(x_train,y_train)\n",
    "pre=model.predict(x_test)\n",
    "rs=r2_score(y_test,pre)\n",
    "inter=model.intercept_\n",
    "co=model.coef_\n",
    "mse=mean_squared_error(y_test,pre)\n",
    "print(\"Prediction:\",pre)\n",
    "print(\"r2square:\",rs)\n",
    "print(\"Intercept:\",inter)\n",
    "print(\"Cooefficent\",co)\n",
    "print(\"mean_squared_error:\",mse)"
   ]
  },
  {
   "cell_type": "code",
   "execution_count": 42,
   "metadata": {},
   "outputs": [
    {
     "name": "stdout",
     "output_type": "stream",
     "text": [
      "[ 9.06666667  9.46666667  9.86666667 10.26666667 10.66666667]\n"
     ]
    }
   ],
   "source": [
    "l=[1,2,3,4,5]\n",
    "l1=np.array(l).reshape(-1,1)\n",
    "pre=model.predict(l1)\n",
    "print(pre)"
   ]
  },
  {
   "cell_type": "code",
   "execution_count": 11,
   "metadata": {},
   "outputs": [
    {
     "name": "stdout",
     "output_type": "stream",
     "text": [
      "Prediction: [187.2615894  145.48013245]\n",
      "r2square: 0.8347985198834562\n",
      "Intercept: -142.34768211920536\n",
      "Cooefficent [4.64238411]\n",
      "mean_squared_error: 56.54020656988712\n"
     ]
    }
   ],
   "source": [
    "import pandas as pd\n",
    "from sklearn.linear_model import LinearRegression\n",
    "from sklearn.model_selection import train_test_split\n",
    "from sklearn.metrics import r2_score,mean_squared_error\n",
    "y=np.array([140,155,159,179,192,200,212,215])\n",
    "x=np.array([60,62,67,70,71,72,75,78]).reshape(-1,1)\n",
    "x_train,x_test,y_train,y_test=train_test_split(x,y,test_size=0.2,random_state=2)\n",
    "model=LinearRegression()\n",
    "model.fit(x_train,y_train)\n",
    "pre=model.predict(x_test)\n",
    "rs=r2_score(y_test,pre)\n",
    "inter=model.intercept_\n",
    "co=model.coef_\n",
    "mse=mean_squared_error(y_test,pre)\n",
    "print(\"Prediction:\",pre)\n",
    "print(\"r2square:\",rs)\n",
    "print(\"Intercept:\",inter)\n",
    "print(\"Cooefficent\",co)\n",
    "print(\"mean_squared_error:\",mse)"
   ]
  },
  {
   "cell_type": "code",
   "execution_count": 19,
   "metadata": {},
   "outputs": [
    {
     "name": "stdout",
     "output_type": "stream",
     "text": [
      "Prediction: [3.11288962 3.03010522 3.18905127 3.06487466 3.07812017 3.04003934\n",
      " 3.19567402 3.19567402 3.24203329 3.33806319 3.14765907 3.21388659\n",
      " 3.14765907 3.10957824 3.21057521 3.37448833 3.18077283 3.0466621\n",
      " 3.32481769 3.23209916 3.19070696 3.12613512 3.02844953 3.06818604\n",
      " 3.54336851 3.29832668 3.23375485 3.29004824 3.61953016 3.24534466\n",
      " 3.20395246 3.47714099 3.21388659 3.34634163 3.38773383 3.3364075\n",
      " 3.26852429 3.51025475 3.21719796 3.30660512 3.36289851 3.33806319\n",
      " 3.53012301 3.09302136 3.56985952 3.4622398  3.2950153  3.51356613\n",
      " 3.34965301 3.55164695 3.25859017 3.34634163 3.43243741 2.98043457\n",
      " 3.38607815 3.39932365 3.13938063 3.50859906 3.22382072 3.4059464\n",
      " 3.52681163 3.26852429 3.40925778 3.65429961 3.40925778 3.30826081\n",
      " 3.33806319 3.47714099 3.35627576 3.47217392 3.4754853  3.21885365\n",
      " 3.5450242  3.47714099 3.62118585 3.61125172 3.58144934 3.61953016\n",
      " 3.32647338 3.48045236 3.27183567 3.56489246 3.52350025 3.6692008 ]\n",
      "r2square: 0.40600391479679765\n",
      "Intercept: 0.2750402996602803\n",
      "Cooefficent [0.00165569]\n",
      "mean_squared_error: 0.04330086666167265\n"
     ]
    }
   ],
   "source": [
    "import pandas as pd\n",
    "from sklearn.linear_model import LinearRegression\n",
    "from sklearn.model_selection import train_test_split\n",
    "from sklearn.metrics import r2_score,mean_squared_error\n",
    "\n",
    "d=pd.read_csv(\"SATGPA.csv\")\n",
    "f=pd.DataFrame(d)\n",
    "x=f[[\"SAT\"]]\n",
    "y=f[\"GPA\"]\n",
    "# x_train,x_test,y_train,y_test=train_test_split(x,y,test_size=0.2,random_state=42)\n",
    "model=LinearRegression()\n",
    "model.fit(x,y)\n",
    "pre=model.predict(x)\n",
    "rs=r2_score(y,pre)\n",
    "inter=model.intercept_\n",
    "co=model.coef_\n",
    "mse=mean_squared_error(y,pre)\n",
    "print(\"Prediction:\",pre)\n",
    "print(\"r2square:\",rs)\n",
    "print(\"Intercept:\",inter)\n",
    "print(\"Cooefficent\",co)\n",
    "print(\"mean_squared_error:\",mse)"
   ]
  },
  {
   "cell_type": "code",
   "execution_count": 9,
   "metadata": {},
   "outputs": [
    {
     "name": "stdout",
     "output_type": "stream",
     "text": [
      "r2square: 0.8464891636131896\n",
      "mean_squared_error: 21835.271889248193\n"
     ]
    }
   ],
   "source": [
    "# len 3 indepented weight dep\n",
    "# multilinear indep leng1 2 3  height and width \n",
    "# poly degr 3 r2 score mean,\n",
    "import pandas as pd\n",
    "from sklearn.linear_model import LinearRegression\n",
    "from sklearn.model_selection import train_test_split\n",
    "from sklearn.metrics import r2_score,mean_squared_error\n",
    "f=pd.read_csv(\"Fish.csv\")\n",
    "z=pd.DataFrame(f)\n",
    "x=z[[\"Length3\"]]\n",
    "y=z[\"Weight\"]\n",
    "x_train,x_test,y_train,y_test=train_test_split(x,y,test_size=0.2,random_state=42)\n",
    "model=LinearRegression()\n",
    "model.fit(x_train,y_train)\n",
    "pre=model.predict(x_test)\n",
    "rs=r2_score(y_test,pre)\n",
    "mse=mean_squared_error(y_test,pre)\n",
    "print(\"r2square:\",rs)\n",
    "print(\"mean_squared_error:\",mse)"
   ]
  },
  {
   "cell_type": "code",
   "execution_count": 10,
   "metadata": {},
   "outputs": [],
   "source": [
    "import numpy as np\n",
    "np.float=np.float64"
   ]
  },
  {
   "cell_type": "code",
   "execution_count": 17,
   "metadata": {},
   "outputs": [
    {
     "name": "stdout",
     "output_type": "stream",
     "text": [
      "r2square: 0.8843008929546152\n",
      "mean_squared_error: 16456.958473690316\n"
     ]
    }
   ],
   "source": [
    "# len 3 indepented weight dep\n",
    "# multilinear indep leng1 2 3  height and width \n",
    "# poly degr 3 r2 score mean\n",
    "import pandas as pd\n",
    "from sklearn.linear_model import LinearRegression\n",
    "from sklearn.model_selection import train_test_split\n",
    "from sklearn.metrics import r2_score,mean_squared_error\n",
    "f=pd.read_csv(\"Fish.csv\")\n",
    "z=pd.DataFrame(f)\n",
    "x=z[[\"Length1\",\"Length2\",\"Length3\",\"Height\"]]\n",
    "y=z[\"Weight\"]\n",
    "x_train,x_test,y_train,y_test=train_test_split(x,y,test_size=0.2,random_state=42)\n",
    "model=LinearRegression()\n",
    "model.fit(x_train,y_train)\n",
    "pre=model.predict(x_test)\n",
    "rs=r2_score(y_test,pre)\n",
    "mse=mean_squared_error(y_test,pre)\n",
    "print(\"r2square:\",rs)\n",
    "print(\"mean_squared_error:\",mse)"
   ]
  },
  {
   "cell_type": "code",
   "execution_count": 16,
   "metadata": {},
   "outputs": [
    {
     "name": "stdout",
     "output_type": "stream",
     "text": [
      "r2square: 0.9747458113321141\n",
      "mean_squared_error: 3581.2780712730687\n"
     ]
    }
   ],
   "source": [
    "\n",
    "# poly degr 3 r2 score mean\n",
    "import pandas as pd\n",
    "from sklearn.linear_model import LinearRegression\n",
    "from sklearn.model_selection import train_test_split\n",
    "from sklearn.metrics import r2_score,mean_squared_error\n",
    "from sklearn.preprocessing import PolynomialFeatures\n",
    "f=pd.read_csv(\"Fish.csv\")\n",
    "z=pd.DataFrame(f)\n",
    "x=z[[\"Length1\",\"Length2\",\"Length3\",\"Height\",\"Width\"]]\n",
    "y=z[\"Weight\"]\n",
    "x_train,x_test,y_train,y_test=train_test_split(x,y,test_size=0.2,random_state=25)\n",
    "poly=PolynomialFeatures(degree=3)\n",
    "poly_xtrain=poly.fit_transform(x_train)\n",
    "poly_xtest=poly.transform(x_test)\n",
    "model=LinearRegression()\n",
    "model.fit(poly_xtrain,y_train)\n",
    "pre=model.predict(poly_xtest)\n",
    "rs=r2_score(y_test,pre)\n",
    "mse=mean_squared_error(y_test,pre)\n",
    "print(\"r2square:\",rs)\n",
    "print(\"mean_squared_error:\",mse)"
   ]
  },
  {
   "cell_type": "code",
   "execution_count": null,
   "metadata": {},
   "outputs": [],
   "source": [
    "\n",
    "# poly degr 3 r2 score mean\n",
    "import pandas as pd\n",
    "from sklearn.linear_model import LinearRegression\n",
    "from sklearn.model_selection import train_test_split\n",
    "from sklearn.metrics import r2_score,mean_squared_error\n",
    "from sklearn.preprocessing import PolynomialFeatures\n",
    "f=pd.read_csv(\"Fish.csv\")\n",
    "z=pd.DataFrame(f)\n",
    "x=z[[\"Length1\",\"Length2\",\"Length3\",\"Height\",\"Width\"]]\n",
    "y=z[\"Weight\"]\n",
    "x_train,x_test,y_train,y_test=train_test_split(x,y,test_size=0.2,random_state=42)\n",
    "poly=PolynomialFeatures(degree=3)\n",
    "poly_xtrain=poly.fit_transform(x_train)\n",
    "poly_xtest=poly.transform(x_test)\n",
    "model=LinearRegression()\n",
    "zz_test=poly.transform([[20,20,30,12,5]])\n",
    "\n",
    "pre=model.predict(zz_test)\n",
    "\n",
    "rs=r2_score(y_test,pre)\n",
    "mse=mean_squared_error(y_test,pre)\n",
    "print(\"r2square:\",rs)\n",
    "print(\"mean_squared_error:\",mse)"
   ]
  },
  {
   "cell_type": "code",
   "execution_count": 7,
   "metadata": {},
   "outputs": [
    {
     "data": {
      "text/html": [
       "<div>\n",
       "<style scoped>\n",
       "    .dataframe tbody tr th:only-of-type {\n",
       "        vertical-align: middle;\n",
       "    }\n",
       "\n",
       "    .dataframe tbody tr th {\n",
       "        vertical-align: top;\n",
       "    }\n",
       "\n",
       "    .dataframe thead th {\n",
       "        text-align: right;\n",
       "    }\n",
       "</style>\n",
       "<table border=\"1\" class=\"dataframe\">\n",
       "  <thead>\n",
       "    <tr style=\"text-align: right;\">\n",
       "      <th></th>\n",
       "      <th>X1 transaction date</th>\n",
       "      <th>X2 house age</th>\n",
       "      <th>X3 distance to the nearest MRT station</th>\n",
       "      <th>X4 number of convenience stores</th>\n",
       "      <th>X5 latitude</th>\n",
       "      <th>X6 longitude</th>\n",
       "      <th>Y house price of unit area</th>\n",
       "    </tr>\n",
       "  </thead>\n",
       "  <tbody>\n",
       "    <tr>\n",
       "      <th>0</th>\n",
       "      <td>2012.917</td>\n",
       "      <td>32.0</td>\n",
       "      <td>84.87882</td>\n",
       "      <td>10</td>\n",
       "      <td>24.98298</td>\n",
       "      <td>121.54024</td>\n",
       "      <td>37.9</td>\n",
       "    </tr>\n",
       "    <tr>\n",
       "      <th>1</th>\n",
       "      <td>2012.917</td>\n",
       "      <td>19.5</td>\n",
       "      <td>306.59470</td>\n",
       "      <td>9</td>\n",
       "      <td>24.98034</td>\n",
       "      <td>121.53951</td>\n",
       "      <td>42.2</td>\n",
       "    </tr>\n",
       "    <tr>\n",
       "      <th>2</th>\n",
       "      <td>2013.583</td>\n",
       "      <td>13.3</td>\n",
       "      <td>561.98450</td>\n",
       "      <td>5</td>\n",
       "      <td>24.98746</td>\n",
       "      <td>121.54391</td>\n",
       "      <td>47.3</td>\n",
       "    </tr>\n",
       "    <tr>\n",
       "      <th>3</th>\n",
       "      <td>2013.500</td>\n",
       "      <td>13.3</td>\n",
       "      <td>561.98450</td>\n",
       "      <td>5</td>\n",
       "      <td>24.98746</td>\n",
       "      <td>121.54391</td>\n",
       "      <td>54.8</td>\n",
       "    </tr>\n",
       "    <tr>\n",
       "      <th>4</th>\n",
       "      <td>2012.833</td>\n",
       "      <td>5.0</td>\n",
       "      <td>390.56840</td>\n",
       "      <td>5</td>\n",
       "      <td>24.97937</td>\n",
       "      <td>121.54245</td>\n",
       "      <td>43.1</td>\n",
       "    </tr>\n",
       "    <tr>\n",
       "      <th>...</th>\n",
       "      <td>...</td>\n",
       "      <td>...</td>\n",
       "      <td>...</td>\n",
       "      <td>...</td>\n",
       "      <td>...</td>\n",
       "      <td>...</td>\n",
       "      <td>...</td>\n",
       "    </tr>\n",
       "    <tr>\n",
       "      <th>409</th>\n",
       "      <td>2013.000</td>\n",
       "      <td>13.7</td>\n",
       "      <td>4082.01500</td>\n",
       "      <td>0</td>\n",
       "      <td>24.94155</td>\n",
       "      <td>121.50381</td>\n",
       "      <td>15.4</td>\n",
       "    </tr>\n",
       "    <tr>\n",
       "      <th>410</th>\n",
       "      <td>2012.667</td>\n",
       "      <td>5.6</td>\n",
       "      <td>90.45606</td>\n",
       "      <td>9</td>\n",
       "      <td>24.97433</td>\n",
       "      <td>121.54310</td>\n",
       "      <td>50.0</td>\n",
       "    </tr>\n",
       "    <tr>\n",
       "      <th>411</th>\n",
       "      <td>2013.250</td>\n",
       "      <td>18.8</td>\n",
       "      <td>390.96960</td>\n",
       "      <td>7</td>\n",
       "      <td>24.97923</td>\n",
       "      <td>121.53986</td>\n",
       "      <td>40.6</td>\n",
       "    </tr>\n",
       "    <tr>\n",
       "      <th>412</th>\n",
       "      <td>2013.000</td>\n",
       "      <td>8.1</td>\n",
       "      <td>104.81010</td>\n",
       "      <td>5</td>\n",
       "      <td>24.96674</td>\n",
       "      <td>121.54067</td>\n",
       "      <td>52.5</td>\n",
       "    </tr>\n",
       "    <tr>\n",
       "      <th>413</th>\n",
       "      <td>2013.500</td>\n",
       "      <td>6.5</td>\n",
       "      <td>90.45606</td>\n",
       "      <td>9</td>\n",
       "      <td>24.97433</td>\n",
       "      <td>121.54310</td>\n",
       "      <td>63.9</td>\n",
       "    </tr>\n",
       "  </tbody>\n",
       "</table>\n",
       "<p>414 rows × 7 columns</p>\n",
       "</div>"
      ],
      "text/plain": [
       "     X1 transaction date  X2 house age  \\\n",
       "0               2012.917          32.0   \n",
       "1               2012.917          19.5   \n",
       "2               2013.583          13.3   \n",
       "3               2013.500          13.3   \n",
       "4               2012.833           5.0   \n",
       "..                   ...           ...   \n",
       "409             2013.000          13.7   \n",
       "410             2012.667           5.6   \n",
       "411             2013.250          18.8   \n",
       "412             2013.000           8.1   \n",
       "413             2013.500           6.5   \n",
       "\n",
       "     X3 distance to the nearest MRT station  X4 number of convenience stores  \\\n",
       "0                                  84.87882                               10   \n",
       "1                                 306.59470                                9   \n",
       "2                                 561.98450                                5   \n",
       "3                                 561.98450                                5   \n",
       "4                                 390.56840                                5   \n",
       "..                                      ...                              ...   \n",
       "409                              4082.01500                                0   \n",
       "410                                90.45606                                9   \n",
       "411                               390.96960                                7   \n",
       "412                               104.81010                                5   \n",
       "413                                90.45606                                9   \n",
       "\n",
       "     X5 latitude  X6 longitude  Y house price of unit area  \n",
       "0       24.98298     121.54024                        37.9  \n",
       "1       24.98034     121.53951                        42.2  \n",
       "2       24.98746     121.54391                        47.3  \n",
       "3       24.98746     121.54391                        54.8  \n",
       "4       24.97937     121.54245                        43.1  \n",
       "..           ...           ...                         ...  \n",
       "409     24.94155     121.50381                        15.4  \n",
       "410     24.97433     121.54310                        50.0  \n",
       "411     24.97923     121.53986                        40.6  \n",
       "412     24.96674     121.54067                        52.5  \n",
       "413     24.97433     121.54310                        63.9  \n",
       "\n",
       "[414 rows x 7 columns]"
      ]
     },
     "execution_count": 7,
     "metadata": {},
     "output_type": "execute_result"
    }
   ],
   "source": [
    "import pandas as pd\n",
    "from sklearn.linear_model import LinearRegression\n",
    "from sklearn.model_selection import train_test_split\n",
    "from sklearn.metrics import r2_score,mean_squared_error\n",
    "from sklearn.preprocessing import PolynomialFeatures\n",
    "f=pd.read_csv(\"RealEstate.csv\")\n",
    "z=pd.DataFrame(f)\n",
    "z1=z.drop(\"No\",axis=1)\n",
    "z1\n"
   ]
  },
  {
   "cell_type": "code",
   "execution_count": 11,
   "metadata": {},
   "outputs": [],
   "source": [
    "import numpy as np\n",
    "np.float=np.float64"
   ]
  },
  {
   "cell_type": "code",
   "execution_count": 11,
   "metadata": {},
   "outputs": [
    {
     "name": "stdout",
     "output_type": "stream",
     "text": [
      "r2square: 0.5042537198042796\n",
      "mean_squared_error: 84.01738403597302\n"
     ]
    }
   ],
   "source": [
    "import pandas as pd\n",
    "from sklearn.linear_model import LinearRegression\n",
    "from sklearn.model_selection import train_test_split\n",
    "from sklearn.metrics import r2_score,mean_squared_error\n",
    "from sklearn.preprocessing import PolynomialFeatures\n",
    "f=pd.read_csv(\"RealEstate.csv\")\n",
    "z=pd.DataFrame(f)\n",
    "x=z[[\"X1 transaction date\",\"X2 house age\",\"X3 distance to the nearest MRT station\",\n",
    "     \"X4 number of convenience stores\",\"X5 latitude\",\"X6 longitude\"]]\n",
    "y=z[\"Y house price of unit area\"]\n",
    "x_train,x_test,y_train,y_test=train_test_split(x,y,test_size=0.3,random_state=110)\n",
    "poly=PolynomialFeatures(degree=3)\n",
    "poly_xtrain=poly.fit_transform(x_train)\n",
    "poly_xtest=poly.transform(x_test)\n",
    "model=LinearRegression()\n",
    "model.fit(poly_xtrain,y_train)\n",
    "pre=model.predict(poly_xtest)\n",
    "rs=r2_score(y_test,pre)\n",
    "mse=mean_squared_error(y_test,pre)\n",
    "print(\"r2square:\",rs)\n",
    "print(\"mean_squared_error:\",mse)"
   ]
  },
  {
   "cell_type": "code",
   "execution_count": 39,
   "metadata": {},
   "outputs": [
    {
     "name": "stdout",
     "output_type": "stream",
     "text": [
      "r2square: 0.5447865064578685\n",
      "mean_squared_error: 77.14802598253836\n"
     ]
    }
   ],
   "source": [
    "import pandas as pd\n",
    "from sklearn.linear_model import LinearRegression\n",
    "from sklearn.model_selection import train_test_split\n",
    "from sklearn.metrics import r2_score,mean_squared_error\n",
    "from sklearn.preprocessing import PolynomialFeatures\n",
    "import seaborn as sns\n",
    "import matplotlib.pyplot as plt\n",
    "f=pd.read_csv(\"RealEstate.csv\")\n",
    "z=pd.DataFrame(f)\n",
    "x=z[[\"X1 transaction date\",\"X2 house age\",\"X3 distance to the nearest MRT station\",\n",
    "     \"X4 number of convenience stores\",\"X5 latitude\",\"X6 longitude\"]]\n",
    "y=z[\"Y house price of unit area\"]\n",
    "x_train,x_test,y_train,y_test=train_test_split(x,y,test_size=0.3,random_state=110)\n",
    "# poly=PolynomialFeatures(degree=3)\n",
    "# poly_xtrain=poly.fit_transform(x_train)\n",
    "# poly_xtest=poly.transform(x_test)\n",
    "model=LinearRegression()\n",
    "model.fit(x_train,y_train)\n",
    "pre=model.predict(x_test)\n",
    "rs=r2_score(y_test,pre)\n",
    "mse=mean_squared_error(y_test,pre)\n",
    "print(\"r2square:\",rs)\n",
    "print(\"mean_squared_error:\",mse)"
   ]
  },
  {
   "cell_type": "markdown",
   "metadata": {},
   "source": [
    "# KNN"
   ]
  },
  {
   "cell_type": "code",
   "execution_count": 42,
   "metadata": {},
   "outputs": [
    {
     "name": "stdout",
     "output_type": "stream",
     "text": [
      "classification_report                  precision    recall  f1-score   support\n",
      "\n",
      "    Iris-setosa       1.00      1.00      1.00        10\n",
      "Iris-versicolor       1.00      1.00      1.00         9\n",
      " Iris-virginica       1.00      1.00      1.00        11\n",
      "\n",
      "       accuracy                           1.00        30\n",
      "      macro avg       1.00      1.00      1.00        30\n",
      "   weighted avg       1.00      1.00      1.00        30\n",
      "\n",
      "accuracy_score 1.0\n",
      "confusion_matrix [[10  0  0]\n",
      " [ 0  9  0]\n",
      " [ 0  0 11]]\n",
      "['Iris-setosa' 'Iris-versicolor' 'Iris-virginica']\n"
     ]
    },
    {
     "data": {
      "image/png": "[encoded data removed]",
      "text/plain": [
       "<Figure size 432x288 with 2 Axes>"
      ]
     },
     "metadata": {
      "needs_background": "light"
     },
     "output_type": "display_data"
    }
   ],
   "source": [
    "import pandas as pd\n",
    "from sklearn.model_selection import train_test_split\n",
    "from sklearn.metrics import confusion_matrix,accuracy_score,classification_report\n",
    "from sklearn.neighbors import KNeighborsClassifier\n",
    "f=pd.read_csv(\"Iris.csv\")\n",
    "z=pd.DataFrame(f)\n",
    "x=z[[\"SepalLengthCm\",\"SepalWidthCm\",\"PetalLengthCm\",\"PetalWidthCm\"]]\n",
    "y=z[\"Species\"]\n",
    "x_train,x_test,y_train,y_test=train_test_split(x,y,test_size=0.2,random_state=42)\n",
    "model=KNeighborsClassifier(n_neighbors=3)\n",
    "model.fit(x_train,y_train)\n",
    "pre=model.predict(x_test)\n",
    "cm=confusion_matrix(y_test,pre)\n",
    "acc=accuracy_score(y_test,pre)\n",
    "cr=classification_report(y_test,pre)\n",
    "print(\"classification_report\",cr)\n",
    "print(\"accuracy_score\",acc)\n",
    "print(\"confusion_matrix\",cm)\n",
    "print(model.classes_)\n",
    "sns.heatmap(data=cm,annot=True)\n",
    "plt.show()\n",
    "\n"
   ]
  },
  {
   "cell_type": "code",
   "execution_count": 64,
   "metadata": {},
   "outputs": [],
   "source": [
    "import numpy as np\n",
    "np.float=np.float64\n",
    "np.int=np.int64"
   ]
  },
  {
   "cell_type": "code",
   "execution_count": 38,
   "metadata": {},
   "outputs": [
    {
     "name": "stdout",
     "output_type": "stream",
     "text": [
      "classification_report               precision    recall  f1-score   support\n",
      "\n",
      "           0       0.75      0.71      0.73        99\n",
      "           1       0.52      0.58      0.55        55\n",
      "\n",
      "    accuracy                           0.66       154\n",
      "   macro avg       0.64      0.64      0.64       154\n",
      "weighted avg       0.67      0.66      0.67       154\n",
      "\n",
      "accuracy_score 0.6623376623376623\n",
      "confusion_matrix [[70 29]\n",
      " [23 32]]\n",
      "[0 1]\n"
     ]
    }
   ],
   "source": [
    "import pandas as pd\n",
    "from sklearn.model_selection import train_test_split\n",
    "from sklearn.metrics import confusion_matrix,accuracy_score,classification_report\n",
    "from sklearn.neighbors import KNeighborsClassifier\n",
    "f=pd.read_csv(\"diabetes.csv\")\n",
    "z=pd.DataFrame(f)\n",
    "x=z[[\"Pregnancies\",\"BMI\",\"SkinThickness\",\"Insulin\",\"DiabetesPedigreeFunction\",\"Glucose\",\n",
    "   \"Age\",\"BloodPressure\"]]\n",
    "y=z[\"Outcome\"]\n",
    "x_train,x_test,y_train,y_test=train_test_split(x,y,test_size=0.2,random_state=42)\n",
    "model=KNeighborsClassifier(n_neighbors=5)\n",
    "model.fit(x_train,y_train)\n",
    "pre=model.predict(x_test)\n",
    "cm=confusion_matrix(y_test,pre)\n",
    "acc=accuracy_score(y_test,pre)\n",
    "cr=classification_report(y_test,pre)\n",
    "print(\"classification_report\",cr)\n",
    "print(\"accuracy_score\",acc)\n",
    "print(\"confusion_matrix\",cm)\n",
    "print(model.classes_)"
   ]
  },
  {
   "cell_type": "code",
   "execution_count": 43,
   "metadata": {},
   "outputs": [
    {
     "data": {
      "text/plain": [
       "<AxesSubplot:>"
      ]
     },
     "execution_count": 43,
     "metadata": {},
     "output_type": "execute_result"
    },
    {
     "data": {
      "image/png": "[encoded data removed]",
      "text/plain": [
       "<Figure size 432x288 with 2 Axes>"
      ]
     },
     "metadata": {
      "needs_background": "light"
     },
     "output_type": "display_data"
    }
   ],
   "source": [
    "import seaborn as sns\n",
    "import matplotlib.pyplot as plt\n",
    "sns.heatmap(data=cm,annot=True)"
   ]
  },
  {
   "cell_type": "code",
   "execution_count": 69,
   "metadata": {},
   "outputs": [
    {
     "name": "stdout",
     "output_type": "stream",
     "text": [
      "classification_report               precision    recall  f1-score   support\n",
      "\n",
      "           B       0.93      1.00      0.97        71\n",
      "           M       1.00      0.88      0.94        43\n",
      "\n",
      "    accuracy                           0.96       114\n",
      "   macro avg       0.97      0.94      0.95       114\n",
      "weighted avg       0.96      0.96      0.96       114\n",
      "\n",
      "accuracy_score 0.956140350877193\n",
      "confusion_matrix [[71  0]\n",
      " [ 5 38]]\n"
     ]
    }
   ],
   "source": [
    "import pandas as pd\n",
    "from sklearn.model_selection import train_test_split\n",
    "from sklearn.metrics import confusion_matrix,accuracy_score,classification_report\n",
    "from sklearn.neighbors import KNeighborsClassifier\n",
    "f=pd.read_csv(\"cancer.csv\")\n",
    "z=pd.DataFrame(f)\n",
    "z.dropna(axis=1,inplace=True)\n",
    "z.drop(\"id\",axis=1,inplace=True)\n",
    "x=z.drop(\"diagnosis\",axis=1)\n",
    "y=z[\"diagnosis\"]\n",
    "x_train,x_test,y_train,y_test=train_test_split(x,y,test_size=0.2,random_state=42)\n",
    "model=KNeighborsClassifier(n_neighbors=5)\n",
    "model.fit(x_train,y_train)\n",
    "pre=model.predict(x_test)\n",
    "cm=confusion_matrix(y_test,pre)\n",
    "acc=accuracy_score(y_test,pre)\n",
    "cr=classification_report(y_test,pre)\n",
    "print(\"classification_report\",cr)\n",
    "print(\"accuracy_score\",acc)\n",
    "print(\"confusion_matrix\",cm)\n"
   ]
  },
  {
   "cell_type": "code",
   "execution_count": null,
   "metadata": {},
   "outputs": [],
   "source": []
  }
 ],
 "metadata": {
  "kernelspec": {
   "display_name": "Python 3",
   "language": "python",
   "name": "python3"
  },
  "language_info": {
   "codemirror_mode": {
    "name": "ipython",
    "version": 3
   },
   "file_extension": ".py",
   "mimetype": "text/x-python",
   "name": "python",
   "nbconvert_exporter": "python",
   "pygments_lexer": "ipython3",
   "version": "3.8.5"
  }
 },
 "nbformat": 4,
 "nbformat_minor": 4
}
